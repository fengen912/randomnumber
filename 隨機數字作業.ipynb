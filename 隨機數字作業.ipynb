{
 "cells": [
  {
   "cell_type": "code",
   "execution_count": null,
   "id": "456b1a22",
   "metadata": {},
   "outputs": [
    {
     "name": "stdout",
     "output_type": "stream",
     "text": [
      "請猜一個1到100之間的數字50\n",
      "太大囉！再猜猜看30\n",
      "太大囉！再猜猜看20\n",
      "太小囉！再猜猜看25\n",
      "太大囉！再猜猜看23\n",
      "太大囉！再猜猜看21\n"
     ]
    }
   ],
   "source": [
    "import random\n",
    "\n",
    "target_number=random.randint(1,100)\n",
    "my_number=int(input('請猜一個1到100之間的數字'))\n",
    "\n",
    "while True:\n",
    "    if target_number>my_number:\n",
    "        my_number=int(input('太小囉！再猜猜看'))\n",
    "    elif target_number<my_number:\n",
    "        my_number=int(input('太大囉！再猜猜看'))\n",
    "    else:\n",
    "        print(\"厲害耶！你猜到了唷！\")\n",
    "        break"
   ]
  },
  {
   "cell_type": "code",
   "execution_count": null,
   "id": "f5dc1104",
   "metadata": {},
   "outputs": [],
   "source": []
  },
  {
   "cell_type": "code",
   "execution_count": null,
   "id": "3bf0d00f",
   "metadata": {},
   "outputs": [],
   "source": []
  }
 ],
 "metadata": {
  "kernelspec": {
   "display_name": "Python 3 (ipykernel)",
   "language": "python",
   "name": "python3"
  },
  "language_info": {
   "codemirror_mode": {
    "name": "ipython",
    "version": 3
   },
   "file_extension": ".py",
   "mimetype": "text/x-python",
   "name": "python",
   "nbconvert_exporter": "python",
   "pygments_lexer": "ipython3",
   "version": "3.11.4"
  }
 },
 "nbformat": 4,
 "nbformat_minor": 5
}
